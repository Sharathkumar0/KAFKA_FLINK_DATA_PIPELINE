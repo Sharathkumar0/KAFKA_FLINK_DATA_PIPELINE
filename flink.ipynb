{
 "cells": [
  {
   "cell_type": "code",
   "execution_count": 44,
   "id": "06f4740b",
   "metadata": {},
   "outputs": [
    {
     "name": "stdout",
     "output_type": "stream",
     "text": [
      "c:\\Sharath\\flink-env\\Scripts\\python.exe\n"
     ]
    }
   ],
   "source": [
    "import sys\n",
    "print(sys.executable)"
   ]
  },
  {
   "cell_type": "code",
   "execution_count": 5,
   "id": "c6c012f6",
   "metadata": {},
   "outputs": [],
   "source": [
    "import os\n",
    "from pyflink.datastream import StreamExecutionEnvironment\n",
    "from pyflink.table import StreamTableEnvironment, EnvironmentSettings\n",
    "\n",
    "os.environ['FLINK_HOME'] = r'C:\\flink-1.19.0'\n",
    "\n",
    "env = StreamExecutionEnvironment.get_execution_environment()\n",
    "settings = EnvironmentSettings.new_instance().in_streaming_mode().build()\n",
    "table_env = StreamTableEnvironment.create(env, environment_settings=settings)"
   ]
  },
  {
   "cell_type": "code",
   "execution_count": 6,
   "id": "fe3ff806",
   "metadata": {},
   "outputs": [
    {
     "data": {
      "text/plain": [
       "<pyflink.table.table_result.TableResult at 0x154e2e67aa0>"
      ]
     },
     "execution_count": 6,
     "metadata": {},
     "output_type": "execute_result"
    }
   ],
   "source": [
    "# Kafka source table\n",
    "table_env.execute_sql(\"\"\"\n",
    "    CREATE TABLE input_table (\n",
    "        title STRING,\n",
    "        price FLOAT,\n",
    "        currency STRING,\n",
    "        url STRING       \n",
    "    ) WITH (\n",
    "        'connector' = 'kafka',\n",
    "        'topic' = 'input_topic',\n",
    "        'properties.bootstrap.servers' = 'localhost:9092',\n",
    "        'format' = 'json',\n",
    "        'properties.group.id' = 'flink-group-2',\n",
    "        'scan.startup.mode' = 'earliest-offset' \n",
    "    )\n",
    "\"\"\")"
   ]
  },
  {
   "cell_type": "code",
   "execution_count": null,
   "id": "5b924faf",
   "metadata": {},
   "outputs": [
    {
     "data": {
      "text/plain": [
       "<pyflink.table.table_result.TableResult at 0x154e2e64230>"
      ]
     },
     "execution_count": 7,
     "metadata": {},
     "output_type": "execute_result"
    }
   ],
   "source": [
    "# Define Kafka sink table\n",
    "table_env.execute_sql(\"\"\"\n",
    "    CREATE TABLE output_table (\n",
    "        title STRING,\n",
    "        price FLOAT,\n",
    "        currency STRING,\n",
    "        url STRING\n",
    "    ) WITH (\n",
    "        'connector' = 'kafka',\n",
    "        'topic' = 'output_topic',\n",
    "        'properties.bootstrap.servers' = 'localhost:9092',\n",
    "        'format' = 'json'\n",
    "    )\n",
    "\"\"\")"
   ]
  },
  {
   "cell_type": "code",
   "execution_count": 8,
   "id": "b41e3947",
   "metadata": {},
   "outputs": [
    {
     "data": {
      "text/plain": [
       "<pyflink.table.table_result.TableResult at 0x154e2e66f60>"
      ]
     },
     "execution_count": 8,
     "metadata": {},
     "output_type": "execute_result"
    }
   ],
   "source": [
    "# Insert data from source to sink\n",
    "table_env.execute_sql(\"\"\"\n",
    "    INSERT INTO output_table\n",
    "    SELECT *\n",
    "    FROM input_table\n",
    "    WHERE price > 500.0\n",
    "\"\"\")"
   ]
  }
 ],
 "metadata": {
  "kernelspec": {
   "display_name": "flink-env",
   "language": "python",
   "name": "python3"
  },
  "language_info": {
   "codemirror_mode": {
    "name": "ipython",
    "version": 3
   },
   "file_extension": ".py",
   "mimetype": "text/x-python",
   "name": "python",
   "nbconvert_exporter": "python",
   "pygments_lexer": "ipython3",
   "version": "3.12.6"
  }
 },
 "nbformat": 4,
 "nbformat_minor": 5
}
